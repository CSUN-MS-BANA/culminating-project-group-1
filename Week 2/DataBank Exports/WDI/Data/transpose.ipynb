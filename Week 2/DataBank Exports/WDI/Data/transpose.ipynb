{
 "cells": [
  {
   "cell_type": "code",
   "execution_count": 3,
   "metadata": {},
   "outputs": [
    {
     "name": "stdout",
     "output_type": "stream",
     "text": [
      "Processed 'Economic Data - P_Data_Extract_From_World_Development_Indicators.xlsx' → 'Economic Data - P_Data_Extract_From_World_Development_Indicators.csv'\n",
      "Processed 'Education Data - P_Data_Extract_From_World_Development_Indicators.xlsx' → 'Education Data - P_Data_Extract_From_World_Development_Indicators.csv'\n",
      "Processed 'Environment Data - P_Data_Extract_From_World_Development_Indicators.xlsx' → 'Environment Data - P_Data_Extract_From_World_Development_Indicators.csv'\n",
      "Processed 'Financial Sector Data - P_Data_Extract_From_World_Development_Indicators.xlsx' → 'Financial Sector Data - P_Data_Extract_From_World_Development_Indicators.csv'\n",
      "Processed 'Gender Data - P_Data_Extract_From_World_Development_Indicators.xlsx' → 'Gender Data - P_Data_Extract_From_World_Development_Indicators.csv'\n",
      "Processed 'Health Data - P_Data_Extract_From_World_Development_Indicators.xlsx' → 'Health Data - P_Data_Extract_From_World_Development_Indicators.csv'\n",
      "Processed 'Infrastructure Data - P_Data_Extract_From_World_Development_Indicators.xlsx' → 'Infrastructure Data - P_Data_Extract_From_World_Development_Indicators.csv'\n",
      "Processed 'Poverty Data - P_Data_Extract_From_World_Development_Indicators.xlsx' → 'Poverty Data - P_Data_Extract_From_World_Development_Indicators.csv'\n",
      "Processed 'Private Sector Data - P_Data_Extract_From_World_Development_Indicators.xlsx' → 'Private Sector Data - P_Data_Extract_From_World_Development_Indicators.csv'\n",
      "Processed 'Public Sector Data - P_Data_Extract_From_World_Development_Indicators.xlsx' → 'Public Sector Data - P_Data_Extract_From_World_Development_Indicators.csv'\n",
      "Processed 'Social Data - P_Data_Extract_From_World_Development_Indicators.xlsx' → 'Social Data - P_Data_Extract_From_World_Development_Indicators.csv'\n"
     ]
    }
   ],
   "source": [
    "import pandas as pd\n",
    "import numpy as np\n",
    "import glob\n",
    "import os\n",
    "\n",
    "# Columns to drop\n",
    "DROP_COLS = [\"Country Name\", \"Series Name\"]\n",
    "\n",
    "# Year columns to transform\n",
    "YEAR_COLS = [f\"{year} [YR{year}]\" for year in range(2004, 2024)]\n",
    "\n",
    "\n",
    "# Get list of .xlsx files in current directory\n",
    "xlsx_files = glob.glob(\"*.xlsx\")\n",
    "\n",
    "for xlsx_file in xlsx_files:\n",
    "    # 1. Read the data from the \"Data\" sheet\n",
    "    df = pd.read_excel(xlsx_file, sheet_name=\"Data\")\n",
    "\n",
    "    # 2. Drop the \"Country Name\" and \"Series Name\" columns\n",
    "    df.drop(columns=DROP_COLS, inplace=True)\n",
    "\n",
    "    # 3. Convert all \"..\" to NULL (NaN)\n",
    "    df.replace(\"..\", np.nan, inplace=True)\n",
    "\n",
    "    # 4. Reshape the year columns into rows\n",
    "    df = df.melt(\n",
    "        id_vars=[\"Country Code\", \"Series Code\"],  # columns to keep as identifiers\n",
    "        value_vars=YEAR_COLS,                     # columns to unpivot\n",
    "        var_name=\"Year\",                          # name for the new 'Year' column\n",
    "        value_name=\"Value\"                        # name for the new 'Value' column\n",
    "    )\n",
    "\n",
    "    # 5. Drop any row where 'Value' is NaN\n",
    "    df.dropna(subset=[\"Value\"], inplace=True)\n",
    "\n",
    "    # 6. Extract the numeric year (e.g., \"2021\" from \"2021 [YR2021]\") and convert to int\n",
    "    df[\"Year\"] = df[\"Year\"].str.extract(r\"(\\d{4})\").astype(int)\n",
    "\n",
    "    # 7. Reset the DataFrame index and create a new column named \"Index\"\n",
    "    #    We'll have it start at 1 rather than 0.\n",
    "    df.reset_index(drop=True, inplace=True)\n",
    "    df[\"Index\"] = df.index + 1\n",
    "\n",
    "    # 8. Reorder columns so \"Index\" is first\n",
    "    df = df[[\"Index\", \"Country Code\", \"Series Code\", \"Year\", \"Value\"]]\n",
    "\n",
    "    # 9. Save to CSV (same base name as the original .xlsx)\n",
    "    out_csv = os.path.splitext(xlsx_file)[0] + \".csv\"\n",
    "    df.to_csv(out_csv, index=False)\n",
    "\n",
    "    print(f\"Processed '{xlsx_file}' → '{out_csv}'\")\n"
   ]
  }
 ],
 "metadata": {
  "kernelspec": {
   "display_name": "base",
   "language": "python",
   "name": "python3"
  },
  "language_info": {
   "codemirror_mode": {
    "name": "ipython",
    "version": 3
   },
   "file_extension": ".py",
   "mimetype": "text/x-python",
   "name": "python",
   "nbconvert_exporter": "python",
   "pygments_lexer": "ipython3",
   "version": "3.11.4"
  }
 },
 "nbformat": 4,
 "nbformat_minor": 2
}
