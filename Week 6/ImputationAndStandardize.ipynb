{
 "cells": [
  {
   "cell_type": "code",
   "execution_count": 7,
   "metadata": {},
   "outputs": [],
   "source": [
    "import pandas as pd\n",
    "import numpy as np"
   ]
  },
  {
   "cell_type": "code",
   "execution_count": 9,
   "metadata": {},
   "outputs": [
    {
     "name": "stderr",
     "output_type": "stream",
     "text": [
      "C:\\Users\\joshu\\AppData\\Local\\Temp\\ipykernel_33544\\218707411.py:1: DtypeWarning: Columns (316) have mixed types. Specify dtype option on import or set low_memory=False.\n",
      "  df = pd.read_csv(r'D:\\GitHub Repos\\culminating-project-group-1\\Week 6\\Group1DatasetRaw.csv')\n"
     ]
    }
   ],
   "source": [
    "df = pd.read_csv(r'D:\\GitHub Repos\\culminating-project-group-1\\Week 6\\Group1DatasetRaw.csv')\n",
    "\n",
    "# 1. Winsorize numerical columns at 3.5 standard deviations\n",
    "def winsorize_at_3_5_std(df):\n",
    "    numeric_cols = df.select_dtypes(include=[np.number]).columns\n",
    "    for col in numeric_cols:\n",
    "        col_mean = df[col].mean()\n",
    "        col_std = df[col].std()\n",
    "        lower_bound = col_mean - 3.5 * col_std\n",
    "        upper_bound = col_mean + 3.5 * col_std\n",
    "        df[col] = np.clip(df[col], lower_bound, upper_bound)\n",
    "    return df\n",
    "\n",
    "# 2. Mean imputation for missing values in numeric columns\n",
    "def mean_impute_numeric(df):\n",
    "    numeric_cols = df.select_dtypes(include=[np.number]).columns\n",
    "    for col in numeric_cols:\n",
    "        df[col].fillna(df[col].mean(), inplace=True)\n",
    "    return df\n",
    "\n",
    "# 3. One-hot encode (dummy) the 'Region' and 'Income Group' columns\n",
    "def one_hot_encode_categorical(df):\n",
    "    df = pd.get_dummies(df, columns=['Region', 'Income Group'], drop_first=False)\n",
    "    return df\n",
    "\n",
    "# Example usage:\n",
    "df = winsorize_at_3_5_std(df)\n",
    "df = mean_impute_numeric(df)\n",
    "df = one_hot_encode_categorical(df)\n",
    "\n",
    "df.to_csv(r'D:\\GitHub Repos\\culminating-project-group-1\\Week 6\\Group1DatasetCleaned.csv')"
   ]
  }
 ],
 "metadata": {
  "kernelspec": {
   "display_name": "base",
   "language": "python",
   "name": "python3"
  },
  "language_info": {
   "codemirror_mode": {
    "name": "ipython",
    "version": 3
   },
   "file_extension": ".py",
   "mimetype": "text/x-python",
   "name": "python",
   "nbconvert_exporter": "python",
   "pygments_lexer": "ipython3",
   "version": "3.11.4"
  }
 },
 "nbformat": 4,
 "nbformat_minor": 2
}
