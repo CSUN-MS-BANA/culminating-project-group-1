{
 "cells": [
  {
   "cell_type": "code",
   "execution_count": 4,
   "metadata": {},
   "outputs": [],
   "source": [
    "import pandas as pd\n",
    "import numpy as np\n",
    "import re\n",
    "from sklearn.impute import KNNImputer"
   ]
  },
  {
   "cell_type": "code",
   "execution_count": 5,
   "metadata": {},
   "outputs": [
    {
     "name": "stdout",
     "output_type": "stream",
     "text": [
      "\n",
      "Data cleaning complete. File saved as 'Group1DatasetCleaned.csv'.\n"
     ]
    }
   ],
   "source": [
    "# 1) Read raw CSV\n",
    "df = pd.read_csv('Group1DatasetRaw.csv')\n",
    "\n",
    "# Drop columns that end with \".1\"\n",
    "cols_to_drop = [col for col in df.columns if col.endswith('.1')]\n",
    "df.drop(columns=cols_to_drop, inplace=True)\n",
    "\n",
    "# Winsorize numeric columns at ±3.5 standard deviations\n",
    "def winsorize_at_3_5_std(df):\n",
    "    numeric_cols = df.select_dtypes(include=[np.number]).columns\n",
    "    for col in numeric_cols:\n",
    "        col_mean = df[col].mean()\n",
    "        col_std = df[col].std()\n",
    "        lower_bound = col_mean - 3.5 * col_std\n",
    "        upper_bound = col_mean + 3.5 * col_std\n",
    "        df[col] = np.clip(df[col], lower_bound, upper_bound)\n",
    "    return df\n",
    "\n",
    "# KNN imputation for missing numeric values\n",
    "def knn_impute_numeric(df, n_neighbors=5):\n",
    "    numeric_cols = df.select_dtypes(include=[np.number]).columns\n",
    "    imputer = KNNImputer(n_neighbors=n_neighbors)\n",
    "    df[numeric_cols] = imputer.fit_transform(df[numeric_cols])\n",
    "    return df\n",
    "\n",
    "# One-hot encode the 'Region' and 'Income Group' columns\n",
    "def one_hot_encode_categorical(df):\n",
    "    df = pd.get_dummies(df, columns=['Region', 'Income Group'], drop_first=False)\n",
    "    return df\n",
    "\n",
    "# Apply transformations\n",
    "df = winsorize_at_3_5_std(df)\n",
    "df = knn_impute_numeric(df)\n",
    "df = one_hot_encode_categorical(df)\n",
    "\n",
    "# Save the cleaned dataset\n",
    "df.to_csv('Group1DatasetCleaned.csv', index=False)\n",
    "print(\"\\nData cleaning complete. File saved as 'Group1DatasetCleaned.csv'.\")"
   ]
  }
 ],
 "metadata": {
  "kernelspec": {
   "display_name": "base",
   "language": "python",
   "name": "python3"
  },
  "language_info": {
   "codemirror_mode": {
    "name": "ipython",
    "version": 3
   },
   "file_extension": ".py",
   "mimetype": "text/x-python",
   "name": "python",
   "nbconvert_exporter": "python",
   "pygments_lexer": "ipython3",
   "version": "3.11.4"
  }
 },
 "nbformat": 4,
 "nbformat_minor": 2
}
