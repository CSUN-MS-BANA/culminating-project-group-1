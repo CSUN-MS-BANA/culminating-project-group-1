{
 "cells": [
  {
   "cell_type": "code",
   "execution_count": null,
   "metadata": {},
   "outputs": [],
   "source": [
    "#this pivots the data sets pulled from our database into csv's that work well with python\n",
    "import pandas as pd\n",
    "import sqlite3"
   ]
  },
  {
   "cell_type": "code",
   "execution_count": null,
   "metadata": {},
   "outputs": [],
   "source": [
    "folder_loc = 'F:/class/BANA 698/week 4/'\n",
    "output_name = 'Group1Data_uppermiddleincome.csv'\n",
    "\n",
    "\n",
    "conn = sqlite3.connect(folder_loc+'BANA698GROUP1.db.db')\n",
    "\n",
    "#note: the queries in views.highincome.txt and views.uppermiddleincome.txt need to be added to the db as views for this to work\n",
    "df = pd.read_sql_query('SELECT \"CountryShortName\", Year, \"IndicatorName\", Value FROM uppermiddleincome', conn)\n",
    "pivot_df = df.pivot_table(index=[\"CountryShortName\", \"Year\"], columns=\"IndicatorName\", values=\"Value\", aggfunc='max')\n",
    "pivot_df.to_csv(folder_loc+output_name)"
   ]
  }
 ],
 "metadata": {
  "kernelspec": {
   "display_name": "base",
   "language": "python",
   "name": "python3"
  },
  "language_info": {
   "codemirror_mode": {
    "name": "ipython",
    "version": 3
   },
   "file_extension": ".py",
   "mimetype": "text/x-python",
   "name": "python",
   "nbconvert_exporter": "python",
   "pygments_lexer": "ipython3",
   "version": "3.11.7"
  }
 },
 "nbformat": 4,
 "nbformat_minor": 2
}
