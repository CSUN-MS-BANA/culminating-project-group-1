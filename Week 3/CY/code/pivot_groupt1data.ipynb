{
 "cells": [
  {
   "cell_type": "code",
   "execution_count": 1,
   "metadata": {},
   "outputs": [],
   "source": [
    "#this pivots the data sets pulled from our database into csv's that work well with python\n",
    "#note: the queries prefixed with 'views.' like 'views.highincome.txt' need to be added to the db as views for this to work\n",
    "import pandas as pd\n",
    "import sqlite3\n",
    "import gc\n",
    "def del_df(*df_names):\n",
    "    for df_name in df_names:\n",
    "        if df_name in globals():\n",
    "            del globals()[df_name]\n",
    "    \n",
    "    gc.collect()\n",
    "\n",
    "folder_loc = 'F:/class/BANA 698/week 4/rawdata is 20 years/'\n",
    "db_filename = 'BANA698GROUP1.20years.db'\n",
    "output_prefix = 'Group1Data_20years_'"
   ]
  },
  {
   "cell_type": "code",
   "execution_count": 2,
   "metadata": {},
   "outputs": [],
   "source": [
    "view_names = [ #when adding views to the db, save them with these names. the list can be found on views.list.txt\n",
    "    'AllRecords',\n",
    "    'eastasiapacific',\n",
    "    'europecentralasia',\n",
    "    'highincome',\n",
    "    'latinamericacaribbean',\n",
    "    'lowermiddleincome',\n",
    "    'lowincome',\n",
    "    'middleeastnorthafrica',\n",
    "    'northamerica',\n",
    "    'southasia',\n",
    "    'subsaharanafrica',\n",
    "    'uppermiddleincome'\n",
    "]\n",
    "\n",
    "\n",
    "conn = sqlite3.connect(folder_loc + db_filename)\n",
    "\n",
    "for view_name in view_names:\n",
    "    output_name = output_prefix + view_name + '.csv'\n",
    "    df = pd.read_sql_query('SELECT \"CountryShortName\", Year, \"IndicatorName\", Value FROM ' + view_name, conn)\n",
    "    pivot_df = df.pivot_table(index=[\"CountryShortName\", \"Year\"], columns=\"IndicatorName\", values=\"Value\", aggfunc='max')\n",
    "    pivot_df.to_csv(folder_loc + output_name)\n",
    "    del_df('df', 'pivot_df')\n",
    "    \n",
    "conn.close()"
   ]
  }
 ],
 "metadata": {
  "kernelspec": {
   "display_name": "base",
   "language": "python",
   "name": "python3"
  },
  "language_info": {
   "codemirror_mode": {
    "name": "ipython",
    "version": 3
   },
   "file_extension": ".py",
   "mimetype": "text/x-python",
   "name": "python",
   "nbconvert_exporter": "python",
   "pygments_lexer": "ipython3",
   "version": "3.11.7"
  }
 },
 "nbformat": 4,
 "nbformat_minor": 2
}
