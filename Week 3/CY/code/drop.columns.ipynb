{
 "cells": [
  {
   "cell_type": "code",
   "execution_count": 11,
   "metadata": {},
   "outputs": [],
   "source": [
    "#this drops features from a dataset that don't pass particular criteria\n",
    "import pandas as pd\n",
    "pd.set_option('display.max_rows', None)\n",
    "pd.set_option('display.max_columns', None)\n",
    "pd.set_option('display.expand_frame_repr', False)\n",
    "import gc\n",
    "def del_df(*df_names):\n",
    "    for df_name in df_names:\n",
    "        if df_name in globals():\n",
    "            del globals()[df_name]\n",
    "    \n",
    "    gc.collect()"
   ]
  },
  {
   "cell_type": "code",
   "execution_count": 15,
   "metadata": {},
   "outputs": [],
   "source": [
    "folder_loc = 'F:/class/BANA 698/week 4/rawdata is 20 years/'\n",
    "output_name = 'Group1Data_20years_southasia_NoNaNColumns.csv'\n",
    "del_df('df')\n",
    "df = pd.read_csv(folder_loc+'Group1Data_20years_southasia.csv')"
   ]
  },
  {
   "cell_type": "code",
   "execution_count": 16,
   "metadata": {},
   "outputs": [],
   "source": [
    "nan_threshold = 0 #minimum percent nans to permit in a feature"
   ]
  },
  {
   "cell_type": "code",
   "execution_count": 17,
   "metadata": {},
   "outputs": [],
   "source": [
    "results = []\n",
    "\n",
    "for column in df:\n",
    "    percent_nan = df[column].isna().mean() * 100\n",
    "    results.append({\n",
    "        \"Feature\": column,\n",
    "        \"% NaN\": percent_nan\n",
    "    })\n",
    "\n",
    "results_df = pd.DataFrame(results)\n",
    "nancols2drop = results_df[results_df['% NaN'] > nan_threshold]['Feature'].tolist()\n",
    "csv_df = df.drop(columns=nancols2drop)\n",
    "csv_df.to_csv(folder_loc+output_name, index=False)\n",
    "#print(f'Columns dropped:')\n",
    "#for col in nancols2drop: print(col)"
   ]
  }
 ],
 "metadata": {
  "kernelspec": {
   "display_name": "base",
   "language": "python",
   "name": "python3"
  },
  "language_info": {
   "codemirror_mode": {
    "name": "ipython",
    "version": 3
   },
   "file_extension": ".py",
   "mimetype": "text/x-python",
   "name": "python",
   "nbconvert_exporter": "python",
   "pygments_lexer": "ipython3",
   "version": "3.11.7"
  }
 },
 "nbformat": 4,
 "nbformat_minor": 2
}
