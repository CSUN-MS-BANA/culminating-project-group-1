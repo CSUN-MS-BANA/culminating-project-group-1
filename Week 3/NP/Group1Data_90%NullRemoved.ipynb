{
 "cells": [
  {
   "cell_type": "code",
   "execution_count": 1,
   "id": "104c5131",
   "metadata": {},
   "outputs": [],
   "source": [
    "import pandas as pd\n",
    "import numpy as np"
   ]
  },
  {
   "cell_type": "code",
   "execution_count": 3,
   "id": "8b93082e",
   "metadata": {},
   "outputs": [
    {
     "data": {
      "text/html": [
       "<div>\n",
       "<style scoped>\n",
       "    .dataframe tbody tr th:only-of-type {\n",
       "        vertical-align: middle;\n",
       "    }\n",
       "\n",
       "    .dataframe tbody tr th {\n",
       "        vertical-align: top;\n",
       "    }\n",
       "\n",
       "    .dataframe thead th {\n",
       "        text-align: right;\n",
       "    }\n",
       "</style>\n",
       "<table border=\"1\" class=\"dataframe\">\n",
       "  <thead>\n",
       "    <tr style=\"text-align: right;\">\n",
       "      <th></th>\n",
       "      <th>CountryShortName</th>\n",
       "      <th>Year</th>\n",
       "      <th>ARI treatment (% of children under 5 taken to a health provider)</th>\n",
       "      <th>Access to clean fuels and technologies for cooking  (% of population)</th>\n",
       "      <th>Access to clean fuels and technologies for cooking, rural (% of rural population)</th>\n",
       "      <th>Access to clean fuels and technologies for cooking, urban (% of urban population)</th>\n",
       "      <th>Access to electricity (% of population)</th>\n",
       "      <th>Access to electricity, rural (% of rural population)</th>\n",
       "      <th>Access to electricity, urban (% of urban population)</th>\n",
       "      <th>Account ownership at a financial institution or with a mobile-money-service provider (% of population ages 15+)</th>\n",
       "      <th>...</th>\n",
       "      <th>Women who believe a husband is justified in beating his wife (any of five reasons) (%)</th>\n",
       "      <th>Women who believe a husband is justified in beating his wife when she argues with him (%)</th>\n",
       "      <th>Women who believe a husband is justified in beating his wife when she burns the food (%)</th>\n",
       "      <th>Women who believe a husband is justified in beating his wife when she goes out without telling him (%)</th>\n",
       "      <th>Women who believe a husband is justified in beating his wife when she neglects the children (%)</th>\n",
       "      <th>Women who believe a husband is justified in beating his wife when she refuses sex with him (%)</th>\n",
       "      <th>Women who were first married by age 15 (% of women ages 20-24)</th>\n",
       "      <th>Women who were first married by age 18 (% of women ages 20-24)</th>\n",
       "      <th>Women's share of population ages 15+ living with HIV (%)</th>\n",
       "      <th>Young people (ages 15-24) newly infected with HIV</th>\n",
       "    </tr>\n",
       "  </thead>\n",
       "  <tbody>\n",
       "    <tr>\n",
       "      <th>0</th>\n",
       "      <td>Afghanistan</td>\n",
       "      <td>2021.0</td>\n",
       "      <td>NaN</td>\n",
       "      <td>34.900000</td>\n",
       "      <td>17.400000</td>\n",
       "      <td>84.500000</td>\n",
       "      <td>97.700000</td>\n",
       "      <td>97.100000</td>\n",
       "      <td>99.500000</td>\n",
       "      <td>9.65</td>\n",
       "      <td>...</td>\n",
       "      <td>NaN</td>\n",
       "      <td>NaN</td>\n",
       "      <td>NaN</td>\n",
       "      <td>NaN</td>\n",
       "      <td>NaN</td>\n",
       "      <td>NaN</td>\n",
       "      <td>NaN</td>\n",
       "      <td>NaN</td>\n",
       "      <td>29.231041</td>\n",
       "      <td>500.0</td>\n",
       "    </tr>\n",
       "    <tr>\n",
       "      <th>1</th>\n",
       "      <td>Afghanistan</td>\n",
       "      <td>2022.0</td>\n",
       "      <td>NaN</td>\n",
       "      <td>36.100000</td>\n",
       "      <td>18.500000</td>\n",
       "      <td>85.000000</td>\n",
       "      <td>85.300000</td>\n",
       "      <td>81.700000</td>\n",
       "      <td>95.900000</td>\n",
       "      <td>NaN</td>\n",
       "      <td>...</td>\n",
       "      <td>NaN</td>\n",
       "      <td>NaN</td>\n",
       "      <td>NaN</td>\n",
       "      <td>NaN</td>\n",
       "      <td>NaN</td>\n",
       "      <td>NaN</td>\n",
       "      <td>NaN</td>\n",
       "      <td>NaN</td>\n",
       "      <td>29.313433</td>\n",
       "      <td>500.0</td>\n",
       "    </tr>\n",
       "    <tr>\n",
       "      <th>2</th>\n",
       "      <td>Afghanistan</td>\n",
       "      <td>2023.0</td>\n",
       "      <td>NaN</td>\n",
       "      <td>NaN</td>\n",
       "      <td>NaN</td>\n",
       "      <td>NaN</td>\n",
       "      <td>NaN</td>\n",
       "      <td>NaN</td>\n",
       "      <td>NaN</td>\n",
       "      <td>NaN</td>\n",
       "      <td>...</td>\n",
       "      <td>NaN</td>\n",
       "      <td>NaN</td>\n",
       "      <td>NaN</td>\n",
       "      <td>NaN</td>\n",
       "      <td>NaN</td>\n",
       "      <td>NaN</td>\n",
       "      <td>9.6</td>\n",
       "      <td>28.7</td>\n",
       "      <td>NaN</td>\n",
       "      <td>NaN</td>\n",
       "    </tr>\n",
       "    <tr>\n",
       "      <th>3</th>\n",
       "      <td>Africa Eastern and Southern</td>\n",
       "      <td>2021.0</td>\n",
       "      <td>NaN</td>\n",
       "      <td>21.372164</td>\n",
       "      <td>9.097176</td>\n",
       "      <td>40.687817</td>\n",
       "      <td>48.127211</td>\n",
       "      <td>32.809138</td>\n",
       "      <td>75.483124</td>\n",
       "      <td>NaN</td>\n",
       "      <td>...</td>\n",
       "      <td>NaN</td>\n",
       "      <td>NaN</td>\n",
       "      <td>NaN</td>\n",
       "      <td>NaN</td>\n",
       "      <td>NaN</td>\n",
       "      <td>NaN</td>\n",
       "      <td>NaN</td>\n",
       "      <td>NaN</td>\n",
       "      <td>62.568564</td>\n",
       "      <td>NaN</td>\n",
       "    </tr>\n",
       "    <tr>\n",
       "      <th>4</th>\n",
       "      <td>Africa Eastern and Southern</td>\n",
       "      <td>2022.0</td>\n",
       "      <td>NaN</td>\n",
       "      <td>22.100884</td>\n",
       "      <td>9.473374</td>\n",
       "      <td>41.211606</td>\n",
       "      <td>48.742043</td>\n",
       "      <td>33.760782</td>\n",
       "      <td>75.847809</td>\n",
       "      <td>NaN</td>\n",
       "      <td>...</td>\n",
       "      <td>NaN</td>\n",
       "      <td>NaN</td>\n",
       "      <td>NaN</td>\n",
       "      <td>NaN</td>\n",
       "      <td>NaN</td>\n",
       "      <td>NaN</td>\n",
       "      <td>NaN</td>\n",
       "      <td>NaN</td>\n",
       "      <td>62.815034</td>\n",
       "      <td>NaN</td>\n",
       "    </tr>\n",
       "  </tbody>\n",
       "</table>\n",
       "<p>5 rows × 1513 columns</p>\n",
       "</div>"
      ],
      "text/plain": [
       "              CountryShortName    Year  \\\n",
       "0                  Afghanistan  2021.0   \n",
       "1                  Afghanistan  2022.0   \n",
       "2                  Afghanistan  2023.0   \n",
       "3  Africa Eastern and Southern  2021.0   \n",
       "4  Africa Eastern and Southern  2022.0   \n",
       "\n",
       "   ARI treatment (% of children under 5 taken to a health provider)  \\\n",
       "0                                                NaN                  \n",
       "1                                                NaN                  \n",
       "2                                                NaN                  \n",
       "3                                                NaN                  \n",
       "4                                                NaN                  \n",
       "\n",
       "   Access to clean fuels and technologies for cooking  (% of population)  \\\n",
       "0                                          34.900000                       \n",
       "1                                          36.100000                       \n",
       "2                                                NaN                       \n",
       "3                                          21.372164                       \n",
       "4                                          22.100884                       \n",
       "\n",
       "   Access to clean fuels and technologies for cooking, rural (% of rural population)  \\\n",
       "0                                          17.400000                                   \n",
       "1                                          18.500000                                   \n",
       "2                                                NaN                                   \n",
       "3                                           9.097176                                   \n",
       "4                                           9.473374                                   \n",
       "\n",
       "   Access to clean fuels and technologies for cooking, urban (% of urban population)  \\\n",
       "0                                          84.500000                                   \n",
       "1                                          85.000000                                   \n",
       "2                                                NaN                                   \n",
       "3                                          40.687817                                   \n",
       "4                                          41.211606                                   \n",
       "\n",
       "   Access to electricity (% of population)  \\\n",
       "0                                97.700000   \n",
       "1                                85.300000   \n",
       "2                                      NaN   \n",
       "3                                48.127211   \n",
       "4                                48.742043   \n",
       "\n",
       "   Access to electricity, rural (% of rural population)  \\\n",
       "0                                          97.100000      \n",
       "1                                          81.700000      \n",
       "2                                                NaN      \n",
       "3                                          32.809138      \n",
       "4                                          33.760782      \n",
       "\n",
       "   Access to electricity, urban (% of urban population)  \\\n",
       "0                                          99.500000      \n",
       "1                                          95.900000      \n",
       "2                                                NaN      \n",
       "3                                          75.483124      \n",
       "4                                          75.847809      \n",
       "\n",
       "   Account ownership at a financial institution or with a mobile-money-service provider (% of population ages 15+)  \\\n",
       "0                                               9.65                                                                 \n",
       "1                                                NaN                                                                 \n",
       "2                                                NaN                                                                 \n",
       "3                                                NaN                                                                 \n",
       "4                                                NaN                                                                 \n",
       "\n",
       "   ...  \\\n",
       "0  ...   \n",
       "1  ...   \n",
       "2  ...   \n",
       "3  ...   \n",
       "4  ...   \n",
       "\n",
       "   Women who believe a husband is justified in beating his wife (any of five reasons) (%)  \\\n",
       "0                                                NaN                                        \n",
       "1                                                NaN                                        \n",
       "2                                                NaN                                        \n",
       "3                                                NaN                                        \n",
       "4                                                NaN                                        \n",
       "\n",
       "   Women who believe a husband is justified in beating his wife when she argues with him (%)  \\\n",
       "0                                                NaN                                           \n",
       "1                                                NaN                                           \n",
       "2                                                NaN                                           \n",
       "3                                                NaN                                           \n",
       "4                                                NaN                                           \n",
       "\n",
       "   Women who believe a husband is justified in beating his wife when she burns the food (%)  \\\n",
       "0                                                NaN                                          \n",
       "1                                                NaN                                          \n",
       "2                                                NaN                                          \n",
       "3                                                NaN                                          \n",
       "4                                                NaN                                          \n",
       "\n",
       "   Women who believe a husband is justified in beating his wife when she goes out without telling him (%)  \\\n",
       "0                                                NaN                                                        \n",
       "1                                                NaN                                                        \n",
       "2                                                NaN                                                        \n",
       "3                                                NaN                                                        \n",
       "4                                                NaN                                                        \n",
       "\n",
       "   Women who believe a husband is justified in beating his wife when she neglects the children (%)  \\\n",
       "0                                                NaN                                                 \n",
       "1                                                NaN                                                 \n",
       "2                                                NaN                                                 \n",
       "3                                                NaN                                                 \n",
       "4                                                NaN                                                 \n",
       "\n",
       "   Women who believe a husband is justified in beating his wife when she refuses sex with him (%)  \\\n",
       "0                                                NaN                                                \n",
       "1                                                NaN                                                \n",
       "2                                                NaN                                                \n",
       "3                                                NaN                                                \n",
       "4                                                NaN                                                \n",
       "\n",
       "   Women who were first married by age 15 (% of women ages 20-24)  \\\n",
       "0                                                NaN                \n",
       "1                                                NaN                \n",
       "2                                                9.6                \n",
       "3                                                NaN                \n",
       "4                                                NaN                \n",
       "\n",
       "   Women who were first married by age 18 (% of women ages 20-24)  \\\n",
       "0                                                NaN                \n",
       "1                                                NaN                \n",
       "2                                               28.7                \n",
       "3                                                NaN                \n",
       "4                                                NaN                \n",
       "\n",
       "   Women's share of population ages 15+ living with HIV (%)  \\\n",
       "0                                          29.231041          \n",
       "1                                          29.313433          \n",
       "2                                                NaN          \n",
       "3                                          62.568564          \n",
       "4                                          62.815034          \n",
       "\n",
       "   Young people (ages 15-24) newly infected with HIV  \n",
       "0                                              500.0  \n",
       "1                                              500.0  \n",
       "2                                                NaN  \n",
       "3                                                NaN  \n",
       "4                                                NaN  \n",
       "\n",
       "[5 rows x 1513 columns]"
      ]
     },
     "execution_count": 3,
     "metadata": {},
     "output_type": "execute_result"
    }
   ],
   "source": [
    "df = pd.read_csv(r\"C:\\Users\\Namrata Patil\\Desktop\\bana698-project\\culminating-project-group-1\\Week 3\\NP\\Group1Data.csv\")\n",
    "df.head()"
   ]
  },
  {
   "cell_type": "code",
   "execution_count": 4,
   "id": "efdfea99",
   "metadata": {},
   "outputs": [
    {
     "data": {
      "text/plain": [
       "(795, 1513)"
      ]
     },
     "execution_count": 4,
     "metadata": {},
     "output_type": "execute_result"
    }
   ],
   "source": [
    "df.shape"
   ]
  },
  {
   "cell_type": "code",
   "execution_count": 6,
   "id": "88b8310c",
   "metadata": {},
   "outputs": [
    {
     "data": {
      "text/plain": [
       "CountryShortName                                                                                    0\n",
       "Year                                                                                                0\n",
       "ARI treatment (% of children under 5 taken to a health provider)                                  793\n",
       "Access to clean fuels and technologies for cooking  (% of population)                             321\n",
       "Access to clean fuels and technologies for cooking, rural (% of rural population)                 321\n",
       "                                                                                                 ... \n",
       "Women who believe a husband is justified in beating his wife when she refuses sex with him (%)    782\n",
       "Women who were first married by age 15 (% of women ages 20-24)                                    765\n",
       "Women who were first married by age 18 (% of women ages 20-24)                                    763\n",
       "Women's share of population ages 15+ living with HIV (%)                                          406\n",
       "Young people (ages 15-24) newly infected with HIV                                                 536\n",
       "Length: 1513, dtype: int64"
      ]
     },
     "execution_count": 6,
     "metadata": {},
     "output_type": "execute_result"
    }
   ],
   "source": [
    "df.isnull().sum()"
   ]
  },
  {
   "cell_type": "code",
   "execution_count": 7,
   "id": "369e01fe",
   "metadata": {},
   "outputs": [
    {
     "data": {
      "text/plain": [
       "CountryShortName                                                                                   0.000000\n",
       "Year                                                                                               0.000000\n",
       "ARI treatment (% of children under 5 taken to a health provider)                                  99.748428\n",
       "Access to clean fuels and technologies for cooking  (% of population)                             40.377358\n",
       "Access to clean fuels and technologies for cooking, rural (% of rural population)                 40.377358\n",
       "                                                                                                    ...    \n",
       "Women who believe a husband is justified in beating his wife when she refuses sex with him (%)    98.364780\n",
       "Women who were first married by age 15 (% of women ages 20-24)                                    96.226415\n",
       "Women who were first married by age 18 (% of women ages 20-24)                                    95.974843\n",
       "Women's share of population ages 15+ living with HIV (%)                                          51.069182\n",
       "Young people (ages 15-24) newly infected with HIV                                                 67.421384\n",
       "Length: 1513, dtype: float64"
      ]
     },
     "execution_count": 7,
     "metadata": {},
     "output_type": "execute_result"
    }
   ],
   "source": [
    "# Calculate percentage of null values in each column\n",
    "null_percentage = (df.isnull().sum() / len(df)) * 100\n",
    "\n",
    "# Display the null percentage for each column\n",
    "null_percentage"
   ]
  },
  {
   "cell_type": "code",
   "execution_count": 11,
   "id": "762be392",
   "metadata": {},
   "outputs": [
    {
     "data": {
      "text/plain": [
       "ARI treatment (% of children under 5 taken to a health provider)                                          99.748428\n",
       "Adequacy of social insurance programs (% of total welfare of beneficiary households)                      99.748428\n",
       "Adequacy of social protection and labor programs (% of total welfare of beneficiary households)           99.496855\n",
       "Adequacy of social safety net programs (% of total welfare of beneficiary households)                     99.496855\n",
       "Adequacy of unemployment benefits and ALMP (% of total welfare of beneficiary households)                 99.874214\n",
       "                                                                                                            ...    \n",
       "Women who believe a husband is justified in beating his wife when she goes out without telling him (%)    98.238994\n",
       "Women who believe a husband is justified in beating his wife when she neglects the children (%)           98.238994\n",
       "Women who believe a husband is justified in beating his wife when she refuses sex with him (%)            98.364780\n",
       "Women who were first married by age 15 (% of women ages 20-24)                                            96.226415\n",
       "Women who were first married by age 18 (% of women ages 20-24)                                            95.974843\n",
       "Length: 266, dtype: float64"
      ]
     },
     "execution_count": 11,
     "metadata": {},
     "output_type": "execute_result"
    }
   ],
   "source": [
    "null_percentage[null_percentage>=90]"
   ]
  },
  {
   "cell_type": "code",
   "execution_count": 14,
   "id": "d2e90646",
   "metadata": {},
   "outputs": [
    {
     "data": {
      "text/plain": [
       "266"
      ]
     },
     "execution_count": 14,
     "metadata": {},
     "output_type": "execute_result"
    }
   ],
   "source": [
    "count = (null_percentage>=90).sum()\n",
    "count"
   ]
  },
  {
   "cell_type": "code",
   "execution_count": 17,
   "id": "ddbadcbb",
   "metadata": {},
   "outputs": [
    {
     "data": {
      "text/plain": [
       "(795, 1247)"
      ]
     },
     "execution_count": 17,
     "metadata": {},
     "output_type": "execute_result"
    }
   ],
   "source": [
    "null_col = null_percentage[null_percentage>=90].index\n",
    "df_new = df.drop(columns=null_col)\n",
    "df_new.shape"
   ]
  },
  {
   "cell_type": "code",
   "execution_count": 18,
   "id": "b3d0a29f",
   "metadata": {},
   "outputs": [
    {
     "name": "stdout",
     "output_type": "stream",
     "text": [
      "File saved as Group1Data_90%NullRemoved.csv\n"
     ]
    }
   ],
   "source": [
    "df_new.to_csv(\"Group1Data_90%NullRemoved.csv\",index=False)\n",
    "print(\"File saved as Group1Data_90%NullRemoved.csv\")"
   ]
  },
  {
   "cell_type": "code",
   "execution_count": null,
   "id": "009755c7",
   "metadata": {},
   "outputs": [],
   "source": []
  }
 ],
 "metadata": {
  "kernelspec": {
   "display_name": "Python 3 (ipykernel)",
   "language": "python",
   "name": "python3"
  },
  "language_info": {
   "codemirror_mode": {
    "name": "ipython",
    "version": 3
   },
   "file_extension": ".py",
   "mimetype": "text/x-python",
   "name": "python",
   "nbconvert_exporter": "python",
   "pygments_lexer": "ipython3",
   "version": "3.10.5"
  }
 },
 "nbformat": 4,
 "nbformat_minor": 5
}
