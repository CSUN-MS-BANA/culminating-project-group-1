{
 "cells": [
  {
   "cell_type": "markdown",
   "id": "db824b43",
   "metadata": {},
   "source": [
    "# Interactive Life Expectancy Simulator\n",
    "\n",
    "Adjust health predictors to see how the predicted life expectancy changes and view the distribution of the predictor you just changed."
   ]
  },
  {
   "cell_type": "code",
   "execution_count": 6,
   "id": "81989a34",
   "metadata": {},
   "outputs": [],
   "source": [
    "import pandas as pd\n",
    "import matplotlib.pyplot as plt\n",
    "import seaborn as sns\n",
    "import ipywidgets as widgets\n",
    "from IPython.display import display, HTML\n",
    "\n",
    "# Load data\n",
    "coefs_df = pd.read_csv('health_unscaled_coefficients.csv')\n",
    "data_df  = pd.read_csv('health_predictors.csv')\n",
    "sns.set_theme()"
   ]
  },
  {
   "cell_type": "code",
   "execution_count": 7,
   "id": "40fc668d",
   "metadata": {},
   "outputs": [
    {
     "data": {
      "text/plain": [
       "['Population ages 0-14, total',\n",
       " 'People practicing open defecation (% of population)',\n",
       " 'Total alcohol consumption per capita (liters of pure alcohol, projected estimates, 15+ years of age)',\n",
       " 'Domestic private health expenditure per capita (current US$)',\n",
       " 'Prevalence of overweight (modeled estimate, % of children under 5)',\n",
       " 'Number of maternal deaths',\n",
       " 'Lifetime risk of maternal death (%)',\n",
       " 'Incidence of tuberculosis (per 100,000 people)',\n",
       " 'Prevalence of undernourishment (% of population)']"
      ]
     },
     "execution_count": 7,
     "metadata": {},
     "output_type": "execute_result"
    }
   ],
   "source": [
    "# Extract intercept\n",
    "intercept = coefs_df.loc[coefs_df['variable']=='Intercept', 'beta_unscaled'].iat[0]\n",
    "# Build slopes dict for all other variables\n",
    "slopes = (\n",
    "    coefs_df[coefs_df['variable']!='Intercept']\n",
    "    .set_index('variable')['beta_unscaled']\n",
    "    .to_dict()\n",
    ")\n",
    "# Exclude unwanted variable if present\n",
    "slopes.pop('Lifetime risk of maternal death (1 in: rate varies by country)', None)\n",
    "predictors = list(slopes.keys())\n",
    "predictors"
   ]
  },
  {
   "cell_type": "code",
   "execution_count": 8,
   "id": "5071d099",
   "metadata": {},
   "outputs": [],
   "source": [
    "def predict_le(vals):\n",
    "    '''Compute predicted life expectancy given a dict of predictor values.'''\n",
    "    return intercept + sum(slopes[var] * vals[var] for var in predictors)"
   ]
  },
  {
   "cell_type": "code",
   "execution_count": 9,
   "id": "57424059",
   "metadata": {},
   "outputs": [
    {
     "data": {
      "application/vnd.jupyter.widget-view+json": {
       "model_id": "e730c0ffaf574ee997c683004b7f5c74",
       "version_major": 2,
       "version_minor": 0
      },
      "text/plain": [
       "VBox(children=(FloatSlider(value=9271852.752738325, continuous_update=False, description='Population ages 0-14…"
      ]
     },
     "metadata": {},
     "output_type": "display_data"
    }
   ],
   "source": [
    "sliders = {}\n",
    "for var in predictors:\n",
    "    col = data_df[var].dropna()\n",
    "    min_val, max_val = float(col.min()), float(col.max())\n",
    "    mu = coefs_df.loc[coefs_df['variable']==var, 'mean'].iat[0]\n",
    "    step = (max_val - min_val) / 100.0\n",
    "    sliders[var] = widgets.FloatSlider(\n",
    "        value=mu,\n",
    "        min=min_val,\n",
    "        max=max_val,\n",
    "        step=step,\n",
    "        description=var,\n",
    "        continuous_update=False,\n",
    "        layout=widgets.Layout(width='1200px'),\n",
    "        style={'description_width': '600px'}\n",
    "    )\n",
    "ui = widgets.VBox(list(sliders.values()))\n",
    "display(ui)"
   ]
  },
  {
   "cell_type": "code",
   "execution_count": 10,
   "id": "8a5c837c",
   "metadata": {},
   "outputs": [
    {
     "data": {
      "application/vnd.jupyter.widget-view+json": {
       "model_id": "9d574e3f5d474a02a53b620317a749c0",
       "version_major": 2,
       "version_minor": 0
      },
      "text/plain": [
       "Output()"
      ]
     },
     "metadata": {},
     "output_type": "display_data"
    }
   ],
   "source": [
    "out = widgets.Output()\n",
    "display(out)\n",
    "\n",
    "def update(var):\n",
    "    out.clear_output()\n",
    "    # gather current slider values\n",
    "    vals = {v: sliders[v].value for v in predictors}\n",
    "    pred = predict_le(vals)\n",
    "    with out:\n",
    "        display(HTML(f\"<h2 style='color:darkblue;'>Predicted Life Expectancy: {pred:.2f} years</h2>\"))\n",
    "        plt.figure(figsize=(6,4))\n",
    "        sns.histplot(data_df[var].dropna(), bins=30, kde=True)\n",
    "        plt.axvline(sliders[var].value, color='red', linestyle='--')\n",
    "        plt.title(f\"Distribution of {var}\")\n",
    "        plt.xlabel(var)\n",
    "        plt.tight_layout()\n",
    "        plt.show()\n",
    "\n",
    "# detach any old observers, then re‐attach exactly one per slider\n",
    "for w in sliders.values():\n",
    "    w.unobserve_all()\n",
    "\n",
    "def make_handler(var):\n",
    "    def handler(change):\n",
    "        update(var)\n",
    "    return handler\n",
    "\n",
    "for var, w in sliders.items():\n",
    "    w.observe(make_handler(var), names='value')\n",
    "\n",
    "# initial draw\n",
    "update(predictors[0])\n"
   ]
  }
 ],
 "metadata": {
  "language_info": {
   "name": "python"
  }
 },
 "nbformat": 4,
 "nbformat_minor": 5
}
