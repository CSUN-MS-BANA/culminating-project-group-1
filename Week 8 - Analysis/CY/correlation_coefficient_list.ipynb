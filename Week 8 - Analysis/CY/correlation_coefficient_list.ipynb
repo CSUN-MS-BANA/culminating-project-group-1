{
 "cells": [
  {
   "cell_type": "code",
   "execution_count": null,
   "metadata": {},
   "outputs": [],
   "source": [
    "import pandas as pd\n",
    "import os \n",
    "\n",
    "pd.set_option('display.max_rows', None)\n",
    "pd.set_option('display.max_columns', None)\n",
    "pd.set_option('display.max_colwidth', None)\n",
    "pd.set_option('display.width', None)\n",
    "pd.set_option('display.expand_frame_repr', False)"
   ]
  },
  {
   "cell_type": "code",
   "execution_count": 27,
   "metadata": {},
   "outputs": [],
   "source": [
    "import numpy as np"
   ]
  },
  {
   "cell_type": "code",
   "execution_count": null,
   "metadata": {},
   "outputs": [],
   "source": [
    "folder_loc = 'F:/class/BANA 698/week 8'\n",
    "\n",
    "\n",
    "file_list = [f for f in os.listdir(folder_loc) if os.path.isfile(os.path.join(folder_loc, f))]\n",
    "for file in file_list:\n",
    "    print(file)"
   ]
  },
  {
   "cell_type": "code",
   "execution_count": 29,
   "metadata": {},
   "outputs": [],
   "source": [
    "file = 'Group1DatasetRaw.onehotted.csv'\n",
    "df = pd.read_csv(os.path.join(folder_loc, file))"
   ]
  },
  {
   "cell_type": "code",
   "execution_count": 30,
   "metadata": {},
   "outputs": [],
   "source": [
    "def corr_coeff_list(exclude_cols, output_file = False, folder_loc = folder_loc, df = df):\n",
    "    df_filtered = df.drop(columns=exclude_cols, errors='ignore')\n",
    "    corr_matrix = df_filtered.corr(numeric_only=True)\n",
    "    mask = np.triu(np.ones(corr_matrix.shape), k=1).astype(bool)\n",
    "\n",
    "    corr_pairs = corr_matrix.where(mask).stack().reset_index()\n",
    "    corr_pairs.columns = ['Feature_1', 'Feature_2', 'Correlation']\n",
    "    corr_pairs['AbsCorrelation'] = corr_pairs['Correlation'].abs()\n",
    "    corr_pairs = corr_pairs.sort_values(by='AbsCorrelation', ascending=False)\n",
    "\n",
    "    print(corr_pairs.head(10))\n",
    "    if output_file:\n",
    "        corr_pairs.to_csv(os.path.join(folder_loc, output_file), index=False)\n",
    "\n",
    "\n",
    "    total_pairs = corr_pairs.shape[0]\n",
    "    corr_pairs_80plus = corr_pairs[corr_pairs['Correlation'].abs() >= 0.8]\n",
    "    num_corr_pairs_80plus = corr_pairs_80plus.shape[0]\n",
    "    percent_corr_pairs_80plus = (num_corr_pairs_80plus / total_pairs) * 100\n",
    "\n",
    "    corr_pairs_90plus = corr_pairs[corr_pairs['Correlation'].abs() >= 0.9]\n",
    "    num_corr_pairs_90plus = corr_pairs_90plus.shape[0]\n",
    "    percent_corr_pairs_90plus = (num_corr_pairs_90plus / total_pairs) * 100\n",
    "\n",
    "    corr_pairs_99plus = corr_pairs[corr_pairs['Correlation'].abs() >= 0.99]\n",
    "    num_corr_pairs_99plus = corr_pairs_99plus.shape[0]\n",
    "    percent_corr_pairs_99plus = (num_corr_pairs_99plus / total_pairs) * 100\n",
    "\n",
    "\n",
    "    print(f\"\\nTotal number of pairs: {total_pairs}\")\n",
    "    print(f\"Number of pairs with correlation >= 0.8: {num_corr_pairs_80plus}\")\n",
    "    print(f\"Percentage of pairs with correlation >= 0.8: {percent_corr_pairs_80plus:.2f}%\")\n",
    "    print(f\"Number of pairs with correlation >= 0.9: {num_corr_pairs_90plus}\")\n",
    "    print(f\"Percentage of pairs with correlation >= 0.9: {percent_corr_pairs_90plus:.2f}%\")\n",
    "    print(f\"Number of pairs with correlation >= 0.99: {num_corr_pairs_99plus}\")\n",
    "    print(f\"Percentage of pairs with correlation >= 0.99: {percent_corr_pairs_99plus:.2f}%\")"
   ]
  },
  {
   "cell_type": "code",
   "execution_count": 31,
   "metadata": {},
   "outputs": [],
   "source": [
    "#for col in sorted(df.columns): print(col)"
   ]
  },
  {
   "cell_type": "code",
   "execution_count": 32,
   "metadata": {},
   "outputs": [],
   "source": [
    "cols_to_exclude1 = [\n",
    "    'CountryShortName',\n",
    "    'Year'\n",
    "]"
   ]
  },
  {
   "cell_type": "code",
   "execution_count": 33,
   "metadata": {},
   "outputs": [],
   "source": [
    "cols_to_exclude2 = [\n",
    "    'CountryShortName',\n",
    "    'Year',\n",
    "    'Death rate, crude (per 1,000 people)',\n",
    "    'Lifetime risk of maternal death (%)',\n",
    "    'Lifetime risk of maternal death (1 in: rate varies by country)',\n",
    "    'Maternal mortality ratio (modeled estimate, per 100,000 live births)',\n",
    "    'Mortality rate, adult, female (per 1,000 female adults)',\n",
    "    'Mortality rate, adult, male (per 1,000 male adults)',\n",
    "    'Mortality rate, infant (per 1,000 live births)',\n",
    "    'Mortality rate, infant, female (per 1,000 live births)',\n",
    "    'Mortality rate, infant, male (per 1,000 live births)',\n",
    "    'Mortality rate, neonatal (per 1,000 live births)',\n",
    "    'Mortality rate, under-5 (per 1,000 live births)',\n",
    "    'Mortality rate, under-5, female (per 1,000 live births)',\n",
    "    'Mortality rate, under-5, male (per 1,000 live births)',\n",
    "    'Number of deaths ages 10-14 years',\n",
    "    'Number of deaths ages 15-19 years',\n",
    "    'Number of deaths ages 20-24 years',\n",
    "    'Number of deaths ages 5-9 years',\n",
    "    'Number of infant deaths',\n",
    "    'Number of maternal deaths',\n",
    "    'Number of neonatal deaths',\n",
    "    'Number of under-five deaths',\n",
    "    'Probability of dying among adolescents ages 10-14 years (per 1,000)',\n",
    "    'Probability of dying among adolescents ages 15-19 years (per 1,000)',\n",
    "    'Probability of dying among children ages 5-9 years (per 1,000)',\n",
    "    'Probability of dying among youth ages 20-24 years (per 1,000)'\n",
    "]"
   ]
  },
  {
   "cell_type": "code",
   "execution_count": 34,
   "metadata": {},
   "outputs": [
    {
     "name": "stdout",
     "output_type": "stream",
     "text": [
      "                                                                   Feature_1                                                                          Feature_2  Correlation  AbsCorrelation\n",
      "29892                               Rural population (% of total population)                                           Urban population (% of total population)    -1.000000        1.000000\n",
      "39921    Self-employed, total (% of total employment) (modeled ILO estimate)    Wage and salaried workers, total (% of total employment) (modeled ILO estimate)    -1.000000        1.000000\n",
      "39872  Self-employed, female (% of female employment) (modeled ILO estimate)  Wage and salaried workers, female (% of female employment) (modeled ILO estimate)    -1.000000        1.000000\n",
      "39897      Self-employed, male (% of male employment) (modeled ILO estimate)      Wage and salaried workers, male (% of male employment) (modeled ILO estimate)    -1.000000        1.000000\n",
      "11027                                                      GNI (current US$)                                                                  GDP (current US$)     0.999903        0.999903\n",
      "8563                                      GNI, PPP (current international $)                                                 GDP, PPP (current international $)     0.999887        0.999887\n",
      "14761                       Monetary Sector credit to private sector (% GDP)                              Domestic credit to private sector by banks (% of GDP)     0.999874        0.999874\n",
      "37106                                             Population ages 0-14, male                                                        Population ages 0-14, total     0.999862        0.999862\n",
      "36949                                           Population ages 0-14, female                                                        Population ages 0-14, total     0.999831        0.999831\n",
      "31007  Prevalence of anemia among non-pregnant women (% of women ages 15-49)       Prevalence of anemia among women of reproductive age (% of women ages 15-49)     0.999744        0.999744\n",
      "\n",
      "Total number of pairs: 40186\n",
      "Number of pairs with correlation >= 0.8: 1399\n",
      "Percentage of pairs with correlation >= 0.8: 3.48%\n",
      "Number of pairs with correlation >= 0.9: 518\n",
      "Percentage of pairs with correlation >= 0.9: 1.29%\n",
      "Number of pairs with correlation >= 0.99: 55\n",
      "Percentage of pairs with correlation >= 0.99: 0.14%\n"
     ]
    }
   ],
   "source": [
    "corr_coeff_list(cols_to_exclude1, 'correlation_all.csv')"
   ]
  },
  {
   "cell_type": "code",
   "execution_count": 35,
   "metadata": {},
   "outputs": [
    {
     "name": "stdout",
     "output_type": "stream",
     "text": [
      "                                                                   Feature_1                                                                          Feature_2  Correlation  AbsCorrelation\n",
      "26392                               Rural population (% of total population)                                           Urban population (% of total population)    -1.000000        1.000000\n",
      "33146    Self-employed, total (% of total employment) (modeled ILO estimate)    Wage and salaried workers, total (% of total employment) (modeled ILO estimate)    -1.000000        1.000000\n",
      "33097  Self-employed, female (% of female employment) (modeled ILO estimate)  Wage and salaried workers, female (% of female employment) (modeled ILO estimate)    -1.000000        1.000000\n",
      "33122      Self-employed, male (% of male employment) (modeled ILO estimate)      Wage and salaried workers, male (% of male employment) (modeled ILO estimate)    -1.000000        1.000000\n",
      "9977                                                       GNI (current US$)                                                                  GDP (current US$)     0.999903        0.999903\n",
      "7763                                      GNI, PPP (current international $)                                                 GDP, PPP (current international $)     0.999887        0.999887\n",
      "13311                       Monetary Sector credit to private sector (% GDP)                              Domestic credit to private sector by banks (% of GDP)     0.999874        0.999874\n",
      "30637                                             Population ages 0-14, male                                                        Population ages 0-14, total     0.999862        0.999862\n",
      "30488                                           Population ages 0-14, female                                                        Population ages 0-14, total     0.999831        0.999831\n",
      "27307  Prevalence of anemia among non-pregnant women (% of women ages 15-49)       Prevalence of anemia among women of reproductive age (% of women ages 15-49)     0.999744        0.999744\n",
      "\n",
      "Total number of pairs: 33411\n",
      "Number of pairs with correlation >= 0.8: 1065\n",
      "Percentage of pairs with correlation >= 0.8: 3.19%\n",
      "Number of pairs with correlation >= 0.9: 436\n",
      "Percentage of pairs with correlation >= 0.9: 1.30%\n",
      "Number of pairs with correlation >= 0.99: 48\n",
      "Percentage of pairs with correlation >= 0.99: 0.14%\n"
     ]
    }
   ],
   "source": [
    "corr_coeff_list(cols_to_exclude2, 'correlation_no_mortality_related.csv')"
   ]
  }
 ],
 "metadata": {
  "kernelspec": {
   "display_name": "base",
   "language": "python",
   "name": "python3"
  },
  "language_info": {
   "codemirror_mode": {
    "name": "ipython",
    "version": 3
   },
   "file_extension": ".py",
   "mimetype": "text/x-python",
   "name": "python",
   "nbconvert_exporter": "python",
   "pygments_lexer": "ipython3",
   "version": "3.11.7"
  }
 },
 "nbformat": 4,
 "nbformat_minor": 2
}
